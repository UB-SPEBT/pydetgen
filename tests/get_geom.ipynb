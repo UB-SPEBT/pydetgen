{
 "cells": [
  {
   "cell_type": "code",
   "execution_count": 1,
   "metadata": {},
   "outputs": [],
   "source": [
    "import numpy as np\n",
    "import sys\n",
    "sys.path.insert(0, '..')\n",
    "import pydetgen\n",
    "import plotly.graph_objects as go"
   ]
  },
  {
   "cell_type": "code",
   "execution_count": 2,
   "metadata": {},
   "outputs": [
    {
     "name": "stdout",
     "output_type": "stream",
     "text": [
      "[[ 0.   1.   0.   4.  -0.5  0.5  0.  10. ]\n",
      " [ 0.   1.   6.  10.  -0.5  0.5  0.  10. ]]\n"
     ]
    }
   ],
   "source": [
    "print(pydetgen.get_plate_geoms_2d(10,0,10,2,np.array([5]),0,1,1))"
   ]
  },
  {
   "cell_type": "code",
   "execution_count": 8,
   "metadata": {},
   "outputs": [
    {
     "name": "stdout",
     "output_type": "stream",
     "text": [
      "[[ 0.5   3.5   0.    2.   -0.5   0.5   1.    0.48]\n",
      " [ 4.5   7.5   2.    4.   -0.5   0.5   2.    0.48]]\n"
     ]
    }
   ],
   "source": [
    "# print(pydetgen.get_det_unit_geoms(0.48,np.array([[2,1,0]]),np.array([[3,2,1]])))\n",
    "print(pydetgen.get_det_unit_geoms(0.48,np.array([[2,1,0],[6,3,0]]),np.array([3,2,1])))"
   ]
  },
  {
   "cell_type": "code",
   "execution_count": null,
   "metadata": {},
   "outputs": [],
   "source": []
  }
 ],
 "metadata": {
  "kernelspec": {
   "display_name": "Python 3",
   "language": "python",
   "name": "python3"
  },
  "language_info": {
   "codemirror_mode": {
    "name": "ipython",
    "version": 3
   },
   "file_extension": ".py",
   "mimetype": "text/x-python",
   "name": "python",
   "nbconvert_exporter": "python",
   "pygments_lexer": "ipython3",
   "version": "3.12.4"
  }
 },
 "nbformat": 4,
 "nbformat_minor": 2
}
